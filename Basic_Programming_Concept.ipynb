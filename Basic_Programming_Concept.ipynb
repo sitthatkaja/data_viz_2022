{
  "nbformat": 4,
  "nbformat_minor": 0,
  "metadata": {
    "colab": {
      "name": "Basic Programming Concept.ipynb",
      "provenance": [],
      "authorship_tag": "ABX9TyOQrFwvkOr42ockYpG/axRp",
      "include_colab_link": true
    },
    "kernelspec": {
      "name": "python3",
      "display_name": "Python 3"
    },
    "language_info": {
      "name": "python"
    }
  },
  "cells": [
    {
      "cell_type": "markdown",
      "metadata": {
        "id": "view-in-github",
        "colab_type": "text"
      },
      "source": [
        "<a href=\"https://colab.research.google.com/github/sitthatkaja/data_viz_2022/blob/main/Basic_Programming_Concept.ipynb\" target=\"_parent\"><img src=\"https://colab.research.google.com/assets/colab-badge.svg\" alt=\"Open In Colab\"/></a>"
      ]
    },
    {
      "cell_type": "markdown",
      "source": [
        "# Functions ($f(x)=y$)"
      ],
      "metadata": {
        "id": "a_9rgy6UDmwU"
      }
    },
    {
      "cell_type": "markdown",
      "source": [
        "```python\n",
        "def function_name(input_x):\n",
        "  #do something with input_x to get output_y\n",
        "  return output_y\n",
        "```\n",
        "\n"
      ],
      "metadata": {
        "id": "dmcUmM3jEMC-"
      }
    },
    {
      "cell_type": "markdown",
      "source": [
        "$f_1(x) = x^2 + 75$"
      ],
      "metadata": {
        "id": "4R9Hx1wSF0eW"
      }
    },
    {
      "cell_type": "code",
      "source": [
        "def function_f1(x):\n",
        "  a = x**2\n",
        "  y = a + 75\n",
        "  return y\n",
        "\n",
        "print('done!')"
      ],
      "metadata": {
        "colab": {
          "base_uri": "https://localhost:8080/"
        },
        "id": "BjlBfFPtD8S3",
        "outputId": "bf25fec5-e772-4850-ba95-299e032602e0"
      },
      "execution_count": 3,
      "outputs": [
        {
          "output_type": "stream",
          "name": "stdout",
          "text": [
            "done!\n"
          ]
        }
      ]
    },
    {
      "cell_type": "code",
      "source": [
        "function_f1(3)"
      ],
      "metadata": {
        "colab": {
          "base_uri": "https://localhost:8080/"
        },
        "id": "wi90j2jGGYm6",
        "outputId": "b4fc83f6-3b95-4072-9aaa-7db73422f59b"
      },
      "execution_count": 2,
      "outputs": [
        {
          "output_type": "execute_result",
          "data": {
            "text/plain": [
              "84"
            ]
          },
          "metadata": {},
          "execution_count": 2
        }
      ]
    },
    {
      "cell_type": "markdown",
      "source": [
        "Function มีส่วนสำคัญทั้งหมด 4 ส่วน\n",
        "\n",
        "1. บอก python ว่าเราจะเขียนฟังก์ชัน ชื่ออะไร `def function_name()`: (ขาดไม่ได้)\n",
        "2. กำหนดตัวแปรที่จะเป็น Input *Input* (ขาดได้)\n",
        "3. ส่วนประมวลผล do sonething with *input* to get *output* (ขาดไม่ได้)\n",
        "4. ส่วน output return *output* (ขาดได้)"
      ],
      "metadata": {
        "id": "BEyO2pBdHZgC"
      }
    },
    {
      "cell_type": "markdown",
      "source": [
        "## ตัวอย่าง Function ที่มีส่วนประกอบครบ"
      ],
      "metadata": {
        "id": "HeTUqOhQIRXi"
      }
    },
    {
      "cell_type": "code",
      "source": [
        "def function_f1(x):\n",
        "  a = x**2\n",
        "  y = a + 75\n",
        "  return y"
      ],
      "metadata": {
        "id": "PIRQGhAUIXtX"
      },
      "execution_count": 4,
      "outputs": []
    },
    {
      "cell_type": "markdown",
      "source": [
        "## ตัวอย่าง Function ที่ไม่มี input"
      ],
      "metadata": {
        "id": "aLDHaxXHIYd6"
      }
    },
    {
      "cell_type": "code",
      "source": [
        "def pi_v():\n",
        "  y = 3.14159265359\n",
        "  return y"
      ],
      "metadata": {
        "id": "c6zD7fKRIp_v"
      },
      "execution_count": 5,
      "outputs": []
    },
    {
      "cell_type": "code",
      "source": [
        "piv = pi_v()\n",
        "circle_area_r2 = piv*(2**2)\n",
        "print(circle_area_r2)"
      ],
      "metadata": {
        "colab": {
          "base_uri": "https://localhost:8080/"
        },
        "id": "hlamAcV3Iw5A",
        "outputId": "84ba3fa0-9b7e-4e2b-a3bb-4d3cb1d30a8d"
      },
      "execution_count": 6,
      "outputs": [
        {
          "output_type": "stream",
          "name": "stdout",
          "text": [
            "12.56637061436\n"
          ]
        }
      ]
    },
    {
      "cell_type": "markdown",
      "source": [
        "## Function ไม่มี process ไม่ได้"
      ],
      "metadata": {
        "id": "0JTJoRjgJXex"
      }
    },
    {
      "cell_type": "code",
      "source": [
        "#ERROR CODE EXAMPLE\n",
        "#def function_a():"
      ],
      "metadata": {
        "id": "i8XD66UcJcIE"
      },
      "execution_count": 8,
      "outputs": []
    },
    {
      "cell_type": "markdown",
      "source": [
        "## ตัวอย่าง Function ที่ไม่มี output"
      ],
      "metadata": {
        "id": "wBGqTT82Jjxi"
      }
    },
    {
      "cell_type": "code",
      "source": [
        "def print_name_id(name,id):\n",
        "  print(f'ชื่อ {name} รหัสประจำตัว {id}')"
      ],
      "metadata": {
        "id": "C4U5wlFUJuop"
      },
      "execution_count": 9,
      "outputs": []
    },
    {
      "cell_type": "code",
      "source": [
        "print_name_id('สิทธัตกะ จรัสแสง','623020541-2')"
      ],
      "metadata": {
        "colab": {
          "base_uri": "https://localhost:8080/"
        },
        "id": "pcYcLBkpKHAD",
        "outputId": "4a3bfde4-6fe4-4774-8c4f-f504704c09cf"
      },
      "execution_count": 11,
      "outputs": [
        {
          "output_type": "stream",
          "name": "stdout",
          "text": [
            "ชื่อ สิทธัตกะ จรัสแสง รหัสประจำตัว 623020541-2\n"
          ]
        }
      ]
    },
    {
      "cell_type": "code",
      "source": [
        "a = print_name_id('สิทธัตกะ จรัสแสง','623020541-2')"
      ],
      "metadata": {
        "colab": {
          "base_uri": "https://localhost:8080/"
        },
        "id": "xhb6wsUSKfM9",
        "outputId": "bad03fa0-8047-4433-80aa-42a5a3aa9123"
      },
      "execution_count": 12,
      "outputs": [
        {
          "output_type": "stream",
          "name": "stdout",
          "text": [
            "ชื่อ สิทธัตกะ จรัสแสง รหัสประจำตัว 623020541-2\n"
          ]
        }
      ]
    },
    {
      "cell_type": "code",
      "source": [
        "a"
      ],
      "metadata": {
        "id": "fkYbDqWLKhbf"
      },
      "execution_count": 13,
      "outputs": []
    },
    {
      "cell_type": "markdown",
      "source": [
        "## ตัวอย่าง Function print : ไปหาเอา"
      ],
      "metadata": {
        "id": "caSXIUa3O7Ll"
      }
    },
    {
      "cell_type": "code",
      "source": [
        "print('สิทธัตกะ จรัสแสง')\n",
        "print('623020541-2')"
      ],
      "metadata": {
        "colab": {
          "base_uri": "https://localhost:8080/"
        },
        "id": "ZaeKc_pxPBON",
        "outputId": "1a5ea8b8-98bc-4464-8b18-8b0f3a81d77e"
      },
      "execution_count": 14,
      "outputs": [
        {
          "output_type": "stream",
          "name": "stdout",
          "text": [
            "สิทธัตกะ จรัสแสง\n",
            "623020541-2\n"
          ]
        }
      ]
    },
    {
      "cell_type": "code",
      "source": [
        "print('สิทธัตกะ จรัสแสง',end='->')\n",
        "print('623020541-2')"
      ],
      "metadata": {
        "colab": {
          "base_uri": "https://localhost:8080/"
        },
        "id": "RhLMB0GMPUIj",
        "outputId": "6256d450-11b2-44c5-efe1-58c6cedcff06"
      },
      "execution_count": 15,
      "outputs": [
        {
          "output_type": "stream",
          "name": "stdout",
          "text": [
            "สิทธัตกะ จรัสแสง->623020541-2\n"
          ]
        }
      ]
    },
    {
      "cell_type": "code",
      "source": [
        ""
      ],
      "metadata": {
        "id": "VGQfATlcQR9C"
      },
      "execution_count": null,
      "outputs": []
    },
    {
      "cell_type": "code",
      "source": [
        "print('สิทธัตกะ จรัสแสง','623020541-2',sep=' & ')"
      ],
      "metadata": {
        "colab": {
          "base_uri": "https://localhost:8080/"
        },
        "id": "Btcwpi4jPhy7",
        "outputId": "329d552c-718c-44d5-eb1a-82cbf862f0b2"
      },
      "execution_count": 16,
      "outputs": [
        {
          "output_type": "stream",
          "name": "stdout",
          "text": [
            "สิทธัตกะ จรัสแสง & 623020541-2\n"
          ]
        }
      ]
    },
    {
      "cell_type": "markdown",
      "source": [
        "## Input ของ Function แบ่งเป็น 2 ชนิด \n",
        "\n",
        "- จำเป็นต้องใส่\n",
        "- ไม่จำเป็นต้นใส่"
      ],
      "metadata": {
        "id": "9SY30EZzQGw4"
      }
    },
    {
      "cell_type": "markdown",
      "source": [
        "ตัวอย่าง function `print_grade()` มี input 3 ตัวจำเป็นต้องใส่ 2 ตัวคือ name กับ id และไม่จำเป็นต้องใส่ 1 ตัวคือเกรด ซึ่งมีค่า default เป็น F"
      ],
      "metadata": {
        "id": "xojxKwM2RHQM"
      }
    },
    {
      "cell_type": "code",
      "source": [
        "def print_grade(name,id,grade = 'F' ):\n",
        "  print(f'รหัสประจำตัว {id } ชื่อ {name}')\n",
        "  print(f'ได้เกรด {grade}')"
      ],
      "metadata": {
        "id": "986mXytrQYQS"
      },
      "execution_count": 21,
      "outputs": []
    },
    {
      "cell_type": "code",
      "source": [
        "print_grade('สิทธัตกะ จรัสแสง','623020541-2')"
      ],
      "metadata": {
        "colab": {
          "base_uri": "https://localhost:8080/"
        },
        "id": "UMPP1ohpRtWw",
        "outputId": "6a98feb3-d729-49a2-aeea-8ca4c8bcef2b"
      },
      "execution_count": 22,
      "outputs": [
        {
          "output_type": "stream",
          "name": "stdout",
          "text": [
            "รหัสประจำตัว 623020541-2 ชื่อ สิทธัตกะ จรัสแสง\n",
            "ได้เกรด F\n"
          ]
        }
      ]
    },
    {
      "cell_type": "code",
      "source": [
        "print_grade('สิทธัตกะ จรัสแสง','623020541-2','A')"
      ],
      "metadata": {
        "colab": {
          "base_uri": "https://localhost:8080/"
        },
        "id": "C4aqKgwTR102",
        "outputId": "dafdd3d5-2538-4c91-a9fd-dc3b786b1219"
      },
      "execution_count": 23,
      "outputs": [
        {
          "output_type": "stream",
          "name": "stdout",
          "text": [
            "รหัสประจำตัว 623020541-2 ชื่อ สิทธัตกะ จรัสแสง\n",
            "ได้เกรด A\n"
          ]
        }
      ]
    },
    {
      "cell_type": "code",
      "source": [
        "print_grade(id = '623020541-2' , name = 'สิทธัตกะ จรัสแสง' , grade = 'B+')"
      ],
      "metadata": {
        "colab": {
          "base_uri": "https://localhost:8080/"
        },
        "id": "GplkODgcR-CL",
        "outputId": "c1dbfd7a-697c-4508-b5db-7e7956ff0d6a"
      },
      "execution_count": 24,
      "outputs": [
        {
          "output_type": "stream",
          "name": "stdout",
          "text": [
            "รหัสประจำตัว 623020541-2 ชื่อ สิทธัตกะ จรัสแสง\n",
            "ได้เกรด B+\n"
          ]
        }
      ]
    },
    {
      "cell_type": "markdown",
      "source": [
        "# Looping (for)"
      ],
      "metadata": {
        "id": "5cOOOb10DqcH"
      }
    },
    {
      "cell_type": "code",
      "source": [
        ""
      ],
      "metadata": {
        "id": "qqk0PsnDDw3r"
      },
      "execution_count": null,
      "outputs": []
    },
    {
      "cell_type": "markdown",
      "source": [
        "#Conditional Statement(if)"
      ],
      "metadata": {
        "id": "riMEyt3PDxSc"
      }
    },
    {
      "cell_type": "code",
      "execution_count": null,
      "metadata": {
        "id": "083OBVAyDYeN"
      },
      "outputs": [],
      "source": [
        ""
      ]
    }
  ]
}