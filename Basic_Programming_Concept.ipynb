{
  "nbformat": 4,
  "nbformat_minor": 0,
  "metadata": {
    "colab": {
      "name": "Basic Programming Concept.ipynb",
      "provenance": [],
      "authorship_tag": "ABX9TyP9SrS3ggjs82wH7W6jB5yQ",
      "include_colab_link": true
    },
    "kernelspec": {
      "name": "python3",
      "display_name": "Python 3"
    },
    "language_info": {
      "name": "python"
    }
  },
  "cells": [
    {
      "cell_type": "markdown",
      "metadata": {
        "id": "view-in-github",
        "colab_type": "text"
      },
      "source": [
        "<a href=\"https://colab.research.google.com/github/sitthatkaja/data_viz_2022/blob/main/Basic_Programming_Concept.ipynb\" target=\"_parent\"><img src=\"https://colab.research.google.com/assets/colab-badge.svg\" alt=\"Open In Colab\"/></a>"
      ]
    },
    {
      "cell_type": "markdown",
      "source": [
        "# Functions ($f(x)=y$)"
      ],
      "metadata": {
        "id": "a_9rgy6UDmwU"
      }
    },
    {
      "cell_type": "markdown",
      "source": [
        "```python\n",
        "def function_name(input_x):\n",
        "  #do something with input_x to get output_y\n",
        "  return output_y\n",
        "```\n",
        "\n"
      ],
      "metadata": {
        "id": "dmcUmM3jEMC-"
      }
    },
    {
      "cell_type": "markdown",
      "source": [
        "$f_1(x) = x^2 + 75$"
      ],
      "metadata": {
        "id": "4R9Hx1wSF0eW"
      }
    },
    {
      "cell_type": "code",
      "source": [
        "def function_f1(x):\n",
        "  a = x**2\n",
        "  y = a + 75\n",
        "  return y\n",
        "\n",
        "print('done!')"
      ],
      "metadata": {
        "colab": {
          "base_uri": "https://localhost:8080/"
        },
        "id": "BjlBfFPtD8S3",
        "outputId": "1e13e62b-e411-4108-e752-59694af2cdc2"
      },
      "execution_count": 1,
      "outputs": [
        {
          "output_type": "stream",
          "name": "stdout",
          "text": [
            "done!\n"
          ]
        }
      ]
    },
    {
      "cell_type": "code",
      "source": [
        "function_f1(3)"
      ],
      "metadata": {
        "colab": {
          "base_uri": "https://localhost:8080/"
        },
        "id": "wi90j2jGGYm6",
        "outputId": "faf47839-a5cd-4224-9403-8f93d8f3de9a"
      },
      "execution_count": 2,
      "outputs": [
        {
          "output_type": "execute_result",
          "data": {
            "text/plain": [
              "84"
            ]
          },
          "metadata": {},
          "execution_count": 2
        }
      ]
    },
    {
      "cell_type": "markdown",
      "source": [
        "Function มีส่วนสำคัญทั้งหมด 4 ส่วน\n",
        "\n",
        "1. บอก python ว่าเราจะเขียนฟังก์ชัน ชื่ออะไร `def function_name()`: (ขาดไม่ได้)\n",
        "2. กำหนดตัวแปรที่จะเป็น Input *Input* (ขาดได้)\n",
        "3. ส่วนประมวลผล do sonething with *input* to get *output* (ขาดไม่ได้)\n",
        "4. ส่วน output return *output* (ขาดได้)"
      ],
      "metadata": {
        "id": "BEyO2pBdHZgC"
      }
    },
    {
      "cell_type": "markdown",
      "source": [
        "## ตัวอย่าง Function ที่มีส่วนประกอบครบ"
      ],
      "metadata": {
        "id": "HeTUqOhQIRXi"
      }
    },
    {
      "cell_type": "code",
      "source": [
        "def function_f1(x):\n",
        "  a = x**2\n",
        "  y = a + 75\n",
        "  return y"
      ],
      "metadata": {
        "id": "PIRQGhAUIXtX"
      },
      "execution_count": 3,
      "outputs": []
    },
    {
      "cell_type": "markdown",
      "source": [
        "## ตัวอย่าง Function ที่ไม่มี input"
      ],
      "metadata": {
        "id": "aLDHaxXHIYd6"
      }
    },
    {
      "cell_type": "code",
      "source": [
        "def pi_v():\n",
        "  y = 3.14159265359\n",
        "  return y"
      ],
      "metadata": {
        "id": "c6zD7fKRIp_v"
      },
      "execution_count": 4,
      "outputs": []
    },
    {
      "cell_type": "code",
      "source": [
        "piv = pi_v()\n",
        "circle_area_r2 = piv*(2**2)\n",
        "print(circle_area_r2)"
      ],
      "metadata": {
        "colab": {
          "base_uri": "https://localhost:8080/"
        },
        "id": "hlamAcV3Iw5A",
        "outputId": "1d8798a9-1121-4d76-e695-89f4814cfa64"
      },
      "execution_count": 5,
      "outputs": [
        {
          "output_type": "stream",
          "name": "stdout",
          "text": [
            "12.56637061436\n"
          ]
        }
      ]
    },
    {
      "cell_type": "markdown",
      "source": [
        "## Function ไม่มี process ไม่ได้"
      ],
      "metadata": {
        "id": "0JTJoRjgJXex"
      }
    },
    {
      "cell_type": "code",
      "source": [
        "#ERROR CODE EXAMPLE\n",
        "#def function_a():"
      ],
      "metadata": {
        "id": "i8XD66UcJcIE"
      },
      "execution_count": 6,
      "outputs": []
    },
    {
      "cell_type": "markdown",
      "source": [
        "## ตัวอย่าง Function ที่ไม่มี output"
      ],
      "metadata": {
        "id": "wBGqTT82Jjxi"
      }
    },
    {
      "cell_type": "code",
      "source": [
        "def print_name_id(name,id):\n",
        "  print(f'ชื่อ {name} รหัสประจำตัว {id}')"
      ],
      "metadata": {
        "id": "C4U5wlFUJuop"
      },
      "execution_count": 7,
      "outputs": []
    },
    {
      "cell_type": "code",
      "source": [
        "print_name_id('สิทธัตกะ จรัสแสง','623020541-2')"
      ],
      "metadata": {
        "colab": {
          "base_uri": "https://localhost:8080/"
        },
        "id": "pcYcLBkpKHAD",
        "outputId": "a79301ac-c9d7-4540-a50e-f8c187680f10"
      },
      "execution_count": 8,
      "outputs": [
        {
          "output_type": "stream",
          "name": "stdout",
          "text": [
            "ชื่อ สิทธัตกะ จรัสแสง รหัสประจำตัว 623020541-2\n"
          ]
        }
      ]
    },
    {
      "cell_type": "code",
      "source": [
        "a = print_name_id('สิทธัตกะ จรัสแสง','623020541-2')"
      ],
      "metadata": {
        "colab": {
          "base_uri": "https://localhost:8080/"
        },
        "id": "xhb6wsUSKfM9",
        "outputId": "5c98ee2c-6fb8-48c4-a204-4bf4649117c5"
      },
      "execution_count": 9,
      "outputs": [
        {
          "output_type": "stream",
          "name": "stdout",
          "text": [
            "ชื่อ สิทธัตกะ จรัสแสง รหัสประจำตัว 623020541-2\n"
          ]
        }
      ]
    },
    {
      "cell_type": "markdown",
      "source": [
        "## ตัวอย่าง Function print : ไปหาเอา"
      ],
      "metadata": {
        "id": "caSXIUa3O7Ll"
      }
    },
    {
      "cell_type": "code",
      "source": [
        "print('สิทธัตกะ จรัสแสง')\n",
        "print('623020541-2')"
      ],
      "metadata": {
        "colab": {
          "base_uri": "https://localhost:8080/"
        },
        "id": "ZaeKc_pxPBON",
        "outputId": "dbc3244d-c80f-466d-9b59-972f9be66e64"
      },
      "execution_count": 11,
      "outputs": [
        {
          "output_type": "stream",
          "name": "stdout",
          "text": [
            "สิทธัตกะ จรัสแสง\n",
            "623020541-2\n"
          ]
        }
      ]
    },
    {
      "cell_type": "code",
      "source": [
        "print('สิทธัตกะ จรัสแสง',end='->')\n",
        "print('623020541-2')"
      ],
      "metadata": {
        "colab": {
          "base_uri": "https://localhost:8080/"
        },
        "id": "RhLMB0GMPUIj",
        "outputId": "2c7b4fd6-9364-411a-8af8-42ade61db62e"
      },
      "execution_count": 12,
      "outputs": [
        {
          "output_type": "stream",
          "name": "stdout",
          "text": [
            "สิทธัตกะ จรัสแสง->623020541-2\n"
          ]
        }
      ]
    },
    {
      "cell_type": "code",
      "source": [
        "print('สิทธัตกะ จรัสแสง','623020541-2',sep=' & ')"
      ],
      "metadata": {
        "colab": {
          "base_uri": "https://localhost:8080/"
        },
        "id": "Btcwpi4jPhy7",
        "outputId": "61243906-a272-4580-a5ad-53d6cfc5c9b0"
      },
      "execution_count": 13,
      "outputs": [
        {
          "output_type": "stream",
          "name": "stdout",
          "text": [
            "สิทธัตกะ จรัสแสง & 623020541-2\n"
          ]
        }
      ]
    },
    {
      "cell_type": "markdown",
      "source": [
        "## Input ของ Function แบ่งเป็น 2 ชนิด \n",
        "\n",
        "- จำเป็นต้องใส่\n",
        "- ไม่จำเป็นต้นใส่"
      ],
      "metadata": {
        "id": "9SY30EZzQGw4"
      }
    },
    {
      "cell_type": "markdown",
      "source": [
        "ตัวอย่าง function `print_grade()` มี input 3 ตัวจำเป็นต้องใส่ 2 ตัวคือ name กับ id และไม่จำเป็นต้องใส่ 1 ตัวคือเกรด ซึ่งมีค่า default เป็น F"
      ],
      "metadata": {
        "id": "xojxKwM2RHQM"
      }
    },
    {
      "cell_type": "code",
      "source": [
        "def print_grade(name,id,grade = 'F' ):\n",
        "  print(f'รหัสประจำตัว {id } ชื่อ {name}')\n",
        "  print(f'ได้เกรด {grade}')"
      ],
      "metadata": {
        "id": "986mXytrQYQS"
      },
      "execution_count": 14,
      "outputs": []
    },
    {
      "cell_type": "code",
      "source": [
        "print_grade('สิทธัตกะ จรัสแสง','623020541-2')"
      ],
      "metadata": {
        "colab": {
          "base_uri": "https://localhost:8080/"
        },
        "id": "UMPP1ohpRtWw",
        "outputId": "49ae2443-c383-482b-e516-6131ea8b5394"
      },
      "execution_count": 15,
      "outputs": [
        {
          "output_type": "stream",
          "name": "stdout",
          "text": [
            "รหัสประจำตัว 623020541-2 ชื่อ สิทธัตกะ จรัสแสง\n",
            "ได้เกรด F\n"
          ]
        }
      ]
    },
    {
      "cell_type": "code",
      "source": [
        "print_grade('สิทธัตกะ จรัสแสง','623020541-2','A')"
      ],
      "metadata": {
        "colab": {
          "base_uri": "https://localhost:8080/"
        },
        "id": "C4aqKgwTR102",
        "outputId": "7bf7c958-2ff8-4aa5-9ad4-7245700e03f9"
      },
      "execution_count": 16,
      "outputs": [
        {
          "output_type": "stream",
          "name": "stdout",
          "text": [
            "รหัสประจำตัว 623020541-2 ชื่อ สิทธัตกะ จรัสแสง\n",
            "ได้เกรด A\n"
          ]
        }
      ]
    },
    {
      "cell_type": "code",
      "source": [
        "print_grade(id = '623020541-2' , name = 'สิทธัตกะ จรัสแสง' , grade = 'B+')"
      ],
      "metadata": {
        "colab": {
          "base_uri": "https://localhost:8080/"
        },
        "id": "GplkODgcR-CL",
        "outputId": "925e1b80-9f6c-4043-dc36-7f69edb1170d"
      },
      "execution_count": 17,
      "outputs": [
        {
          "output_type": "stream",
          "name": "stdout",
          "text": [
            "รหัสประจำตัว 623020541-2 ชื่อ สิทธัตกะ จรัสแสง\n",
            "ได้เกรด B+\n"
          ]
        }
      ]
    },
    {
      "cell_type": "markdown",
      "source": [
        "# Looping (for)"
      ],
      "metadata": {
        "id": "5cOOOb10DqcH"
      }
    },
    {
      "cell_type": "markdown",
      "source": [
        "```python\n",
        "for member in listEX:\n",
        "  do_something()\n",
        "```"
      ],
      "metadata": {
        "id": "B9tLYranUGp1"
      }
    },
    {
      "cell_type": "code",
      "source": [
        "for member in [1,2,3,4,5,6]:\n",
        "  print(member)"
      ],
      "metadata": {
        "id": "qqk0PsnDDw3r",
        "colab": {
          "base_uri": "https://localhost:8080/"
        },
        "outputId": "8eb6c853-7229-40bf-bb57-82fa44e6a81e"
      },
      "execution_count": 18,
      "outputs": [
        {
          "output_type": "stream",
          "name": "stdout",
          "text": [
            "1\n",
            "2\n",
            "3\n",
            "4\n",
            "5\n",
            "6\n"
          ]
        }
      ]
    },
    {
      "cell_type": "code",
      "source": [
        "def print_name(name):\n",
        "    print(f'ฉันชื่อ {name}')"
      ],
      "metadata": {
        "id": "6G0NtLRvU-vD"
      },
      "execution_count": 20,
      "outputs": []
    },
    {
      "cell_type": "code",
      "source": [
        "for name in ['สิทธัตกะ','ชนะชัย','วนิศรา']:\n",
        "  N = name\n",
        "  print_name(N)"
      ],
      "metadata": {
        "colab": {
          "base_uri": "https://localhost:8080/"
        },
        "id": "jsqCwhVqVJVd",
        "outputId": "d4a60feb-ea1a-4e01-a372-c94845428a61"
      },
      "execution_count": 23,
      "outputs": [
        {
          "output_type": "stream",
          "name": "stdout",
          "text": [
            "ฉันชื่อ สิทธัตกะ\n",
            "ฉันชื่อ ชนะชัย\n",
            "ฉันชื่อ วนิศรา\n"
          ]
        }
      ]
    },
    {
      "cell_type": "code",
      "source": [
        "list_name_id_grade = [['สิทธัตกะ จรัสแสง','623020541-2','A'],['ชนะชัย อิสระกูล','623021045-9','A'],['วนิศรา จงใจ','623021054-8','A']]"
      ],
      "metadata": {
        "id": "7in9Oi24WXK-"
      },
      "execution_count": 26,
      "outputs": []
    },
    {
      "cell_type": "code",
      "source": [
        "for each in list_name_id_grade:\n",
        "  name = each[0]\n",
        "  id = each[1]\n",
        "  grade = each [2]\n",
        "  print_grade(name,id,grade)\n",
        "  print('-------------------------------')"
      ],
      "metadata": {
        "colab": {
          "base_uri": "https://localhost:8080/"
        },
        "id": "lxFUVvpiXUe2",
        "outputId": "f94016b9-99b5-49f4-b1d6-c02a675227e5"
      },
      "execution_count": 29,
      "outputs": [
        {
          "output_type": "stream",
          "name": "stdout",
          "text": [
            "รหัสประจำตัว 623020541-2 ชื่อ สิทธัตกะ จรัสแสง\n",
            "ได้เกรด A\n",
            "-------------------------------\n",
            "รหัสประจำตัว 623021045-9 ชื่อ ชนะชัย อิสระกูล\n",
            "ได้เกรด A\n",
            "-------------------------------\n",
            "รหัสประจำตัว 623021054-8 ชื่อ วนิศรา จงใจ\n",
            "ได้เกรด A\n",
            "-------------------------------\n"
          ]
        }
      ]
    },
    {
      "cell_type": "markdown",
      "source": [
        "## ใช้ for loop เพิ่มสมาชิกใน list"
      ],
      "metadata": {
        "id": "TiE2X9IhYdg5"
      }
    },
    {
      "cell_type": "code",
      "source": [
        "list_name = []\n",
        "list_id = []\n",
        "list_grade = []\n",
        "for each in list_name_id_grade:\n",
        "  list_name.append(each[0])\n",
        "  list_id.append(each[1])\n",
        "  list_grade.append(each[2])"
      ],
      "metadata": {
        "id": "dwvoGWkeYjgY"
      },
      "execution_count": 30,
      "outputs": []
    },
    {
      "cell_type": "code",
      "source": [
        "list_name"
      ],
      "metadata": {
        "colab": {
          "base_uri": "https://localhost:8080/"
        },
        "id": "rT-At2APY-h_",
        "outputId": "a1605965-6a18-4774-bd71-e624b2953ddd"
      },
      "execution_count": 31,
      "outputs": [
        {
          "output_type": "execute_result",
          "data": {
            "text/plain": [
              "['สิทธัตกะ จรัสแสง', 'ชนะชัย อิสระกูล', 'วนิศรา จงใจ']"
            ]
          },
          "metadata": {},
          "execution_count": 31
        }
      ]
    },
    {
      "cell_type": "markdown",
      "source": [
        "## การวนลูปด้วย range()"
      ],
      "metadata": {
        "id": "ITpKxCvVbea0"
      }
    },
    {
      "cell_type": "code",
      "source": [
        "for i in range(100):\n",
        "  print('งง',end =' ')"
      ],
      "metadata": {
        "colab": {
          "base_uri": "https://localhost:8080/"
        },
        "id": "UnbrjcXHbiF7",
        "outputId": "b3e6eebc-5e0e-469c-e58c-15103f34f3dd"
      },
      "execution_count": 32,
      "outputs": [
        {
          "output_type": "stream",
          "name": "stdout",
          "text": [
            "งง งง งง งง งง งง งง งง งง งง งง งง งง งง งง งง งง งง งง งง งง งง งง งง งง งง งง งง งง งง งง งง งง งง งง งง งง งง งง งง งง งง งง งง งง งง งง งง งง งง งง งง งง งง งง งง งง งง งง งง งง งง งง งง งง งง งง งง งง งง งง งง งง งง งง งง งง งง งง งง งง งง งง งง งง งง งง งง งง งง งง งง งง งง งง งง งง งง งง งง "
          ]
        }
      ]
    },
    {
      "cell_type": "markdown",
      "source": [
        "## Loop ซ้อน Loop"
      ],
      "metadata": {
        "id": "6CkVNQQacmaa"
      }
    },
    {
      "cell_type": "code",
      "source": [
        "for mem1 in range(2,5): #[2,3,4]\n",
        "  print(f'now mem1 = {mem1}')\n",
        "  for mem2 in range(1,13): #[1,2,3,4,5,6,7,8,9,10,11,12]\n",
        "    print(f'{mem1} x {mem2} = {mem1*mem2}')\n",
        "  print(f'end inner for mem 1 = {mem1}')"
      ],
      "metadata": {
        "colab": {
          "base_uri": "https://localhost:8080/"
        },
        "id": "Vue99DXxdBet",
        "outputId": "c069fb2c-8021-4202-b888-5ffa3a6cdbbb"
      },
      "execution_count": 35,
      "outputs": [
        {
          "output_type": "stream",
          "name": "stdout",
          "text": [
            "now mem1 = 2\n",
            "2 x 1 = 2\n",
            "2 x 2 = 4\n",
            "2 x 3 = 6\n",
            "2 x 4 = 8\n",
            "2 x 5 = 10\n",
            "2 x 6 = 12\n",
            "2 x 7 = 14\n",
            "2 x 8 = 16\n",
            "2 x 9 = 18\n",
            "2 x 10 = 20\n",
            "2 x 11 = 22\n",
            "2 x 12 = 24\n",
            "end inner for mem 1 = 2\n",
            "now mem1 = 3\n",
            "3 x 1 = 3\n",
            "3 x 2 = 6\n",
            "3 x 3 = 9\n",
            "3 x 4 = 12\n",
            "3 x 5 = 15\n",
            "3 x 6 = 18\n",
            "3 x 7 = 21\n",
            "3 x 8 = 24\n",
            "3 x 9 = 27\n",
            "3 x 10 = 30\n",
            "3 x 11 = 33\n",
            "3 x 12 = 36\n",
            "end inner for mem 1 = 3\n",
            "now mem1 = 4\n",
            "4 x 1 = 4\n",
            "4 x 2 = 8\n",
            "4 x 3 = 12\n",
            "4 x 4 = 16\n",
            "4 x 5 = 20\n",
            "4 x 6 = 24\n",
            "4 x 7 = 28\n",
            "4 x 8 = 32\n",
            "4 x 9 = 36\n",
            "4 x 10 = 40\n",
            "4 x 11 = 44\n",
            "4 x 12 = 48\n",
            "end inner for mem 1 = 4\n"
          ]
        }
      ]
    },
    {
      "cell_type": "markdown",
      "source": [
        "## Loop in Function"
      ],
      "metadata": {
        "id": "xXmx7sbCgSck"
      }
    },
    {
      "cell_type": "code",
      "source": [
        "def print_grade_loop(names,grades):\n",
        "  for n,g in zip(names,grades):\n",
        "    print(f'{n} ได้เกรด {g}')"
      ],
      "metadata": {
        "id": "7spFXYNGgaN7"
      },
      "execution_count": 38,
      "outputs": []
    },
    {
      "cell_type": "code",
      "source": [
        "print_grade_loop(list_name,list_grade)"
      ],
      "metadata": {
        "id": "UDc5PVt_g7Ur",
        "outputId": "fc333184-cbd7-4514-a83a-dd3ea78685a7",
        "colab": {
          "base_uri": "https://localhost:8080/"
        }
      },
      "execution_count": 39,
      "outputs": [
        {
          "output_type": "stream",
          "name": "stdout",
          "text": [
            "สิทธัตกะ จรัสแสง ได้เกรด A\n",
            "ชนะชัย อิสระกูล ได้เกรด A\n",
            "วนิศรา จงใจ ได้เกรด A\n"
          ]
        }
      ]
    },
    {
      "cell_type": "markdown",
      "source": [
        "#Conditional Statement(if)"
      ],
      "metadata": {
        "id": "riMEyt3PDxSc"
      }
    },
    {
      "cell_type": "markdown",
      "source": [
        "``` python\n",
        "if condition1:\n",
        "  do someting() ##ถ้า condition1 เป็นจริง ทำ do_sonething()\n",
        "elif condition2:\n",
        "  do_another_thing() ##ถ้า condition1 ไม่เป็นจริง แต่ condition2 เป็นจริง ทำ do_another thing()\n",
        "else:\n",
        "  do_the_last_thing() ## ถ้าไม่มี condition ไหนเป็นจริงเลย ทำ do_the_last_thing()\n",
        "```\n",
        "\n"
      ],
      "metadata": {
        "id": "O6rwXkRiiIPu"
      }
    },
    {
      "cell_type": "code",
      "execution_count": 42,
      "metadata": {
        "id": "083OBVAyDYeN",
        "colab": {
          "base_uri": "https://localhost:8080/"
        },
        "outputId": "546ccc00-c5e6-46f1-db09-b122a097bc2e"
      },
      "outputs": [
        {
          "output_type": "stream",
          "name": "stdout",
          "text": [
            "สิทธัตกะ จรัสแสง ได้เกรด A\n",
            "ชนะชัย อิสระกูล ได้เกรด F\n",
            "วนิศรา จงใจ ได้เกรด F\n"
          ]
        }
      ],
      "source": [
        "for n in list_name:\n",
        "  if len(n)>15:\n",
        "      print(f'{n} ได้เกรด A')\n",
        "  else:\n",
        "      print(f'{n} ได้เกรด F')"
      ]
    },
    {
      "cell_type": "markdown",
      "source": [
        "## operator ที่ใช้ตรวจสอบ condition\n",
        "\n",
        "==,!=,>=,<=,<,>,and,or"
      ],
      "metadata": {
        "id": "UaSUsQd6kT3M"
      }
    },
    {
      "cell_type": "code",
      "source": [
        "a = 10 == 20\n",
        "print(a)"
      ],
      "metadata": {
        "id": "IawCiJkxkie6",
        "outputId": "8e9cd172-52f9-4d94-dcd4-b28c48dc7ec0",
        "colab": {
          "base_uri": "https://localhost:8080/"
        }
      },
      "execution_count": 44,
      "outputs": [
        {
          "output_type": "stream",
          "name": "stdout",
          "text": [
            "False\n"
          ]
        }
      ]
    },
    {
      "cell_type": "code",
      "source": [
        "b = 15 <= 20\n",
        "print(b)"
      ],
      "metadata": {
        "id": "SFosQk0fk4f0",
        "outputId": "fe835fa9-6264-4dae-c08b-566e83090732",
        "colab": {
          "base_uri": "https://localhost:8080/"
        }
      },
      "execution_count": 45,
      "outputs": [
        {
          "output_type": "stream",
          "name": "stdout",
          "text": [
            "True\n"
          ]
        }
      ]
    },
    {
      "cell_type": "code",
      "source": [
        "if a:\n",
        "  print('x')"
      ],
      "metadata": {
        "id": "OEnJTVYllEp4"
      },
      "execution_count": 46,
      "outputs": []
    },
    {
      "cell_type": "code",
      "source": [
        "if True:\n",
        "  print('x')"
      ],
      "metadata": {
        "id": "dzwpxVFElJL3",
        "outputId": "b8918644-0f37-48f6-da78-c307e527075d",
        "colab": {
          "base_uri": "https://localhost:8080/"
        }
      },
      "execution_count": 47,
      "outputs": [
        {
          "output_type": "stream",
          "name": "stdout",
          "text": [
            "x\n"
          ]
        }
      ]
    },
    {
      "cell_type": "code",
      "source": [
        "if a and b:\n",
        "  print('x')"
      ],
      "metadata": {
        "id": "Ve-yi2C9lVG7"
      },
      "execution_count": 48,
      "outputs": []
    },
    {
      "cell_type": "code",
      "source": [
        "if a or b:\n",
        "  print('x')"
      ],
      "metadata": {
        "id": "zZeqh7K0lcS5",
        "outputId": "87de2ccb-4e21-4fbd-8c17-2f74aab3631d",
        "colab": {
          "base_uri": "https://localhost:8080/"
        }
      },
      "execution_count": 49,
      "outputs": [
        {
          "output_type": "stream",
          "name": "stdout",
          "text": [
            "x\n"
          ]
        }
      ]
    },
    {
      "cell_type": "markdown",
      "source": [
        "#HW\n",
        "เขียน Function ตัดเกรด โดยที่ input เป็นคะแนน (0-100) , output เป็น (F-A)\n",
        "หรือ 'ไม่สามารถตัดเกรดได้'\n",
        "\n",
        "วนลูปตัดเกรด input = [1,50,65,90,101,-5,49,'ก',80]\n",
        "\n",
        "กำหนด\n",
        "\n",
        "* ถ้าคะแนนอยู่ระหว่างมากกว่าหรือเท่ากับ 0 แต่น้อยกว่า 50 จะได้เกรด F\n",
        "* ถ้าคะแนนอยู่ระหว่างมากกว่าหรือเท่ากับ 50 แต่น้อยกว่า 55 จะได้เกรด D\n",
        "* ถ้าคะแนนอยู่ระหว่างมากกว่าหรือเท่ากับ 55 แต่น้อยกว่า 60 จะได้เกรด D+\n",
        "* ถ้าคะแนนอยู่ระหว่างมากกว่าหรือเท่ากับ 60 แต่น้อยกว่า 65 จะได้เกรด C\n",
        "* ถ้าคะแนนอยู่ระหว่างมากกว่าหรือเท่ากับ 65 แต่น้อยกว่า 70 จะได้เกรด C+\n",
        "* ถ้าคะแนนอยู่ระหว่างมากกว่าหรือเท่ากับ 70 แต่น้อยกว่า 75 จะได้เกรด B\n",
        "* ถ้าคะแนนอยู่ระหว่างมากกว่าหรือเท่ากับ 75 แต่น้อยกว่า 80 จะได้เกรด B+\n",
        "* ถ้าคะแนนอยู่ระหว่างมากกว่าหรือเท่ากับ 80 จะได้เกรด A\n",
        "* ถ้าคะแนนไม่อยู่ในช่วง 0-100 ให้ return 'ไม่สามารถตัดเกรดได้'"
      ],
      "metadata": {
        "id": "MOJvtYR5lyBW"
      }
    }
  ]
}